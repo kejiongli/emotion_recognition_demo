{
 "cells": [
  {
   "cell_type": "code",
   "execution_count": 6,
   "metadata": {
    "collapsed": true,
    "ExecuteTime": {
     "start_time": "2023-04-10T21:23:20.530237Z",
     "end_time": "2023-04-10T21:23:29.415237Z"
    }
   },
   "outputs": [
    {
     "name": "stderr",
     "output_type": "stream",
     "text": [
      "The torchaudio backend is switched to 'soundfile'. Note that 'sox_io' is not supported on Windows.\n",
      "torchvision is not available - cannot save figures\n",
      "The torchaudio backend is switched to 'soundfile'. Note that 'sox_io' is not supported on Windows.\n",
      "C:\\Users\\chaon\\Projects\\emotion_recognition\\venv\\lib\\site-packages\\transformers\\configuration_utils.py:379: UserWarning: Passing `gradient_checkpointing` to a config initialization is deprecated and will be removed in v5 Transformers. Using `model.gradient_checkpointing_enable()` instead, or if you are using the `Trainer` API, pass `gradient_checkpointing=True` in your `TrainingArguments`.\n",
      "  warnings.warn(\n",
      "Some weights of the model checkpoint at facebook/wav2vec2-base were not used when initializing Wav2Vec2Model: ['project_hid.bias', 'project_hid.weight', 'project_q.weight', 'quantizer.weight_proj.bias', 'project_q.bias', 'quantizer.weight_proj.weight', 'quantizer.codevectors']\n",
      "- This IS expected if you are initializing Wav2Vec2Model from the checkpoint of a model trained on another task or with another architecture (e.g. initializing a BertForSequenceClassification model from a BertForPreTraining model).\n",
      "- This IS NOT expected if you are initializing Wav2Vec2Model from the checkpoint of a model that you expect to be exactly identical (initializing a BertForSequenceClassification model from a BertForSequenceClassification model).\n",
      "speechbrain.lobes.models.huggingface_wav2vec - wav2vec 2.0 is frozen.\n"
     ]
    }
   ],
   "source": [
    "from speechbrain.pretrained import foreign_class\n",
    "\n",
    "classifier = foreign_class(\n",
    "    source=\"speechbrain/emotion-recognition-wav2vec2-IEMOCAP\",\n",
    "    pymodule_file=\"custom_interface.py\",\n",
    "    classname=\"CustomEncoderWav2vec2Classifier\",\n",
    ")"
   ]
  },
  {
   "cell_type": "markdown",
   "source": [
    "# MELD data"
   ],
   "metadata": {
    "collapsed": false
   }
  },
  {
   "cell_type": "code",
   "execution_count": 15,
   "outputs": [],
   "source": [
    "\n",
    "import pandas as pd\n",
    "\n",
    "df = pd.read_csv(r\"C:\\Users\\kejiongli\\Projects\\emotion_recognition\\backend\\MELD\\test_sent_emo.csv\")"
   ],
   "metadata": {
    "collapsed": false,
    "ExecuteTime": {
     "start_time": "2023-04-10T21:32:39.490247Z",
     "end_time": "2023-04-10T21:32:39.991243Z"
    }
   }
  },
  {
   "cell_type": "code",
   "execution_count": 16,
   "outputs": [
    {
     "data": {
      "text/plain": "      Sr No.                                          Utterance Speaker   \n0          1  Why do all youre coffee mugs have numbers on ...    Mark  \\\n1          2  Oh. Thats so Monica can keep track. That way ...  Rachel   \n2          3                                       Y'know what?  Rachel   \n3         19                     Come on, Lydia, you can do it.    Joey   \n4         20                                              Push!    Joey   \n...      ...                                                ...     ...   \n2605    2760  Yeah, I mean, come on Ross, no one will even n...  Rachel   \n2606    2761                      They’re not listening too me?    Ross   \n2607    2762  Of course they’re listening to you! Everybody ...  Rachel   \n2608    2763  Monica you really think I should try this phas...    Ross   \n2609    2764                             I think you look fine.  Monica   \n\n       Emotion Sentiment  Dialogue_ID  Utterance_ID  Season  Episode   \n0     surprise  positive            0             0       3       19  \\\n1        anger  negative            0             1       3       19   \n2      neutral   neutral            0             2       3       19   \n3      neutral   neutral            1             0       1       23   \n4          joy  positive            1             1       1       23   \n...        ...       ...          ...           ...     ...      ...   \n2605   neutral   neutral          279            11       6        4   \n2606  surprise  negative          279            12       6        4   \n2607   neutral   neutral          279            13       6        4   \n2608   neutral   neutral          279            14       6        4   \n2609   neutral   neutral          279            15       6        4   \n\n         StartTime       EndTime  \n0     00:14:38,127  00:14:40,378  \n1     00:14:40,629  00:14:47,385  \n2     00:14:56,353  00:14:57,520  \n3      0:10:44,769   0:10:46,146  \n4      0:10:46,146   0:10:46,833  \n...            ...           ...  \n2605  00:14:35,457  00:14:40,211  \n2606  00:14:42,256  00:14:43,840  \n2607  00:14:44,008  00:14:48,511  \n2608  00:14:48,138  00:14:52,390  \n2609  00:14:52,558  00:14:54,183  \n\n[2610 rows x 11 columns]",
      "text/html": "<div>\n<style scoped>\n    .dataframe tbody tr th:only-of-type {\n        vertical-align: middle;\n    }\n\n    .dataframe tbody tr th {\n        vertical-align: top;\n    }\n\n    .dataframe thead th {\n        text-align: right;\n    }\n</style>\n<table border=\"1\" class=\"dataframe\">\n  <thead>\n    <tr style=\"text-align: right;\">\n      <th></th>\n      <th>Sr No.</th>\n      <th>Utterance</th>\n      <th>Speaker</th>\n      <th>Emotion</th>\n      <th>Sentiment</th>\n      <th>Dialogue_ID</th>\n      <th>Utterance_ID</th>\n      <th>Season</th>\n      <th>Episode</th>\n      <th>StartTime</th>\n      <th>EndTime</th>\n    </tr>\n  </thead>\n  <tbody>\n    <tr>\n      <th>0</th>\n      <td>1</td>\n      <td>Why do all youre coffee mugs have numbers on ...</td>\n      <td>Mark</td>\n      <td>surprise</td>\n      <td>positive</td>\n      <td>0</td>\n      <td>0</td>\n      <td>3</td>\n      <td>19</td>\n      <td>00:14:38,127</td>\n      <td>00:14:40,378</td>\n    </tr>\n    <tr>\n      <th>1</th>\n      <td>2</td>\n      <td>Oh. Thats so Monica can keep track. That way ...</td>\n      <td>Rachel</td>\n      <td>anger</td>\n      <td>negative</td>\n      <td>0</td>\n      <td>1</td>\n      <td>3</td>\n      <td>19</td>\n      <td>00:14:40,629</td>\n      <td>00:14:47,385</td>\n    </tr>\n    <tr>\n      <th>2</th>\n      <td>3</td>\n      <td>Y'know what?</td>\n      <td>Rachel</td>\n      <td>neutral</td>\n      <td>neutral</td>\n      <td>0</td>\n      <td>2</td>\n      <td>3</td>\n      <td>19</td>\n      <td>00:14:56,353</td>\n      <td>00:14:57,520</td>\n    </tr>\n    <tr>\n      <th>3</th>\n      <td>19</td>\n      <td>Come on, Lydia, you can do it.</td>\n      <td>Joey</td>\n      <td>neutral</td>\n      <td>neutral</td>\n      <td>1</td>\n      <td>0</td>\n      <td>1</td>\n      <td>23</td>\n      <td>0:10:44,769</td>\n      <td>0:10:46,146</td>\n    </tr>\n    <tr>\n      <th>4</th>\n      <td>20</td>\n      <td>Push!</td>\n      <td>Joey</td>\n      <td>joy</td>\n      <td>positive</td>\n      <td>1</td>\n      <td>1</td>\n      <td>1</td>\n      <td>23</td>\n      <td>0:10:46,146</td>\n      <td>0:10:46,833</td>\n    </tr>\n    <tr>\n      <th>...</th>\n      <td>...</td>\n      <td>...</td>\n      <td>...</td>\n      <td>...</td>\n      <td>...</td>\n      <td>...</td>\n      <td>...</td>\n      <td>...</td>\n      <td>...</td>\n      <td>...</td>\n      <td>...</td>\n    </tr>\n    <tr>\n      <th>2605</th>\n      <td>2760</td>\n      <td>Yeah, I mean, come on Ross, no one will even n...</td>\n      <td>Rachel</td>\n      <td>neutral</td>\n      <td>neutral</td>\n      <td>279</td>\n      <td>11</td>\n      <td>6</td>\n      <td>4</td>\n      <td>00:14:35,457</td>\n      <td>00:14:40,211</td>\n    </tr>\n    <tr>\n      <th>2606</th>\n      <td>2761</td>\n      <td>They’re not listening too me?</td>\n      <td>Ross</td>\n      <td>surprise</td>\n      <td>negative</td>\n      <td>279</td>\n      <td>12</td>\n      <td>6</td>\n      <td>4</td>\n      <td>00:14:42,256</td>\n      <td>00:14:43,840</td>\n    </tr>\n    <tr>\n      <th>2607</th>\n      <td>2762</td>\n      <td>Of course they’re listening to you! Everybody ...</td>\n      <td>Rachel</td>\n      <td>neutral</td>\n      <td>neutral</td>\n      <td>279</td>\n      <td>13</td>\n      <td>6</td>\n      <td>4</td>\n      <td>00:14:44,008</td>\n      <td>00:14:48,511</td>\n    </tr>\n    <tr>\n      <th>2608</th>\n      <td>2763</td>\n      <td>Monica you really think I should try this phas...</td>\n      <td>Ross</td>\n      <td>neutral</td>\n      <td>neutral</td>\n      <td>279</td>\n      <td>14</td>\n      <td>6</td>\n      <td>4</td>\n      <td>00:14:48,138</td>\n      <td>00:14:52,390</td>\n    </tr>\n    <tr>\n      <th>2609</th>\n      <td>2764</td>\n      <td>I think you look fine.</td>\n      <td>Monica</td>\n      <td>neutral</td>\n      <td>neutral</td>\n      <td>279</td>\n      <td>15</td>\n      <td>6</td>\n      <td>4</td>\n      <td>00:14:52,558</td>\n      <td>00:14:54,183</td>\n    </tr>\n  </tbody>\n</table>\n<p>2610 rows × 11 columns</p>\n</div>"
     },
     "execution_count": 16,
     "metadata": {},
     "output_type": "execute_result"
    }
   ],
   "source": [
    "df"
   ],
   "metadata": {
    "collapsed": false,
    "ExecuteTime": {
     "start_time": "2023-04-10T21:32:41.581244Z",
     "end_time": "2023-04-10T21:32:41.740275Z"
    }
   }
  },
  {
   "cell_type": "code",
   "execution_count": 32,
   "outputs": [],
   "source": [
    "from pathlib import Path\n",
    "\n",
    "for i, f in enumerate((Path('.') / 'MELD' / 'audio_files').iterdir()):\n",
    "    dia, utt = f.stem.split('_')\n",
    "    dia = int(dia[3:])\n",
    "    utt = int(utt[3:])\n",
    "    cond = (df['Utterance_ID'] == utt) & (df['Dialogue_ID'] == dia)\n",
    "\n",
    "    out_prob, score, index, text_lab = classifier.classify_file(str(f))\n",
    "\n",
    "    df.loc[cond, 'SpeechBrain'] = text_lab[0]"
   ],
   "metadata": {
    "collapsed": false,
    "ExecuteTime": {
     "start_time": "2023-04-10T21:43:11.811138Z",
     "end_time": "2023-04-10T22:26:52.662403Z"
    }
   }
  },
  {
   "cell_type": "code",
   "execution_count": 33,
   "outputs": [
    {
     "data": {
      "text/plain": "      Sr No.                                          Utterance Speaker   \n0          1  Why do all youre coffee mugs have numbers on ...    Mark  \\\n1          2  Oh. Thats so Monica can keep track. That way ...  Rachel   \n2          3                                       Y'know what?  Rachel   \n3         19                     Come on, Lydia, you can do it.    Joey   \n4         20                                              Push!    Joey   \n...      ...                                                ...     ...   \n2605    2760  Yeah, I mean, come on Ross, no one will even n...  Rachel   \n2606    2761                      They’re not listening too me?    Ross   \n2607    2762  Of course they’re listening to you! Everybody ...  Rachel   \n2608    2763  Monica you really think I should try this phas...    Ross   \n2609    2764                             I think you look fine.  Monica   \n\n       Emotion Sentiment  Dialogue_ID  Utterance_ID  Season  Episode   \n0     surprise  positive            0             0       3       19  \\\n1        anger  negative            0             1       3       19   \n2      neutral   neutral            0             2       3       19   \n3      neutral   neutral            1             0       1       23   \n4          joy  positive            1             1       1       23   \n...        ...       ...          ...           ...     ...      ...   \n2605   neutral   neutral          279            11       6        4   \n2606  surprise  negative          279            12       6        4   \n2607   neutral   neutral          279            13       6        4   \n2608   neutral   neutral          279            14       6        4   \n2609   neutral   neutral          279            15       6        4   \n\n         StartTime       EndTime SpeechBrain  \n0     00:14:38,127  00:14:40,378         ang  \n1     00:14:40,629  00:14:47,385         hap  \n2     00:14:56,353  00:14:57,520         neu  \n3      0:10:44,769   0:10:46,146         ang  \n4      0:10:46,146   0:10:46,833         hap  \n...            ...           ...         ...  \n2605  00:14:35,457  00:14:40,211         ang  \n2606  00:14:42,256  00:14:43,840         ang  \n2607  00:14:44,008  00:14:48,511         ang  \n2608  00:14:48,138  00:14:52,390         neu  \n2609  00:14:52,558  00:14:54,183         hap  \n\n[2610 rows x 12 columns]",
      "text/html": "<div>\n<style scoped>\n    .dataframe tbody tr th:only-of-type {\n        vertical-align: middle;\n    }\n\n    .dataframe tbody tr th {\n        vertical-align: top;\n    }\n\n    .dataframe thead th {\n        text-align: right;\n    }\n</style>\n<table border=\"1\" class=\"dataframe\">\n  <thead>\n    <tr style=\"text-align: right;\">\n      <th></th>\n      <th>Sr No.</th>\n      <th>Utterance</th>\n      <th>Speaker</th>\n      <th>Emotion</th>\n      <th>Sentiment</th>\n      <th>Dialogue_ID</th>\n      <th>Utterance_ID</th>\n      <th>Season</th>\n      <th>Episode</th>\n      <th>StartTime</th>\n      <th>EndTime</th>\n      <th>SpeechBrain</th>\n    </tr>\n  </thead>\n  <tbody>\n    <tr>\n      <th>0</th>\n      <td>1</td>\n      <td>Why do all youre coffee mugs have numbers on ...</td>\n      <td>Mark</td>\n      <td>surprise</td>\n      <td>positive</td>\n      <td>0</td>\n      <td>0</td>\n      <td>3</td>\n      <td>19</td>\n      <td>00:14:38,127</td>\n      <td>00:14:40,378</td>\n      <td>ang</td>\n    </tr>\n    <tr>\n      <th>1</th>\n      <td>2</td>\n      <td>Oh. Thats so Monica can keep track. That way ...</td>\n      <td>Rachel</td>\n      <td>anger</td>\n      <td>negative</td>\n      <td>0</td>\n      <td>1</td>\n      <td>3</td>\n      <td>19</td>\n      <td>00:14:40,629</td>\n      <td>00:14:47,385</td>\n      <td>hap</td>\n    </tr>\n    <tr>\n      <th>2</th>\n      <td>3</td>\n      <td>Y'know what?</td>\n      <td>Rachel</td>\n      <td>neutral</td>\n      <td>neutral</td>\n      <td>0</td>\n      <td>2</td>\n      <td>3</td>\n      <td>19</td>\n      <td>00:14:56,353</td>\n      <td>00:14:57,520</td>\n      <td>neu</td>\n    </tr>\n    <tr>\n      <th>3</th>\n      <td>19</td>\n      <td>Come on, Lydia, you can do it.</td>\n      <td>Joey</td>\n      <td>neutral</td>\n      <td>neutral</td>\n      <td>1</td>\n      <td>0</td>\n      <td>1</td>\n      <td>23</td>\n      <td>0:10:44,769</td>\n      <td>0:10:46,146</td>\n      <td>ang</td>\n    </tr>\n    <tr>\n      <th>4</th>\n      <td>20</td>\n      <td>Push!</td>\n      <td>Joey</td>\n      <td>joy</td>\n      <td>positive</td>\n      <td>1</td>\n      <td>1</td>\n      <td>1</td>\n      <td>23</td>\n      <td>0:10:46,146</td>\n      <td>0:10:46,833</td>\n      <td>hap</td>\n    </tr>\n    <tr>\n      <th>...</th>\n      <td>...</td>\n      <td>...</td>\n      <td>...</td>\n      <td>...</td>\n      <td>...</td>\n      <td>...</td>\n      <td>...</td>\n      <td>...</td>\n      <td>...</td>\n      <td>...</td>\n      <td>...</td>\n      <td>...</td>\n    </tr>\n    <tr>\n      <th>2605</th>\n      <td>2760</td>\n      <td>Yeah, I mean, come on Ross, no one will even n...</td>\n      <td>Rachel</td>\n      <td>neutral</td>\n      <td>neutral</td>\n      <td>279</td>\n      <td>11</td>\n      <td>6</td>\n      <td>4</td>\n      <td>00:14:35,457</td>\n      <td>00:14:40,211</td>\n      <td>ang</td>\n    </tr>\n    <tr>\n      <th>2606</th>\n      <td>2761</td>\n      <td>They’re not listening too me?</td>\n      <td>Ross</td>\n      <td>surprise</td>\n      <td>negative</td>\n      <td>279</td>\n      <td>12</td>\n      <td>6</td>\n      <td>4</td>\n      <td>00:14:42,256</td>\n      <td>00:14:43,840</td>\n      <td>ang</td>\n    </tr>\n    <tr>\n      <th>2607</th>\n      <td>2762</td>\n      <td>Of course they’re listening to you! Everybody ...</td>\n      <td>Rachel</td>\n      <td>neutral</td>\n      <td>neutral</td>\n      <td>279</td>\n      <td>13</td>\n      <td>6</td>\n      <td>4</td>\n      <td>00:14:44,008</td>\n      <td>00:14:48,511</td>\n      <td>ang</td>\n    </tr>\n    <tr>\n      <th>2608</th>\n      <td>2763</td>\n      <td>Monica you really think I should try this phas...</td>\n      <td>Ross</td>\n      <td>neutral</td>\n      <td>neutral</td>\n      <td>279</td>\n      <td>14</td>\n      <td>6</td>\n      <td>4</td>\n      <td>00:14:48,138</td>\n      <td>00:14:52,390</td>\n      <td>neu</td>\n    </tr>\n    <tr>\n      <th>2609</th>\n      <td>2764</td>\n      <td>I think you look fine.</td>\n      <td>Monica</td>\n      <td>neutral</td>\n      <td>neutral</td>\n      <td>279</td>\n      <td>15</td>\n      <td>6</td>\n      <td>4</td>\n      <td>00:14:52,558</td>\n      <td>00:14:54,183</td>\n      <td>hap</td>\n    </tr>\n  </tbody>\n</table>\n<p>2610 rows × 12 columns</p>\n</div>"
     },
     "execution_count": 33,
     "metadata": {},
     "output_type": "execute_result"
    }
   ],
   "source": [
    "df"
   ],
   "metadata": {
    "collapsed": false,
    "ExecuteTime": {
     "start_time": "2023-04-10T22:27:07.202315Z",
     "end_time": "2023-04-10T22:27:07.446317Z"
    }
   }
  },
  {
   "cell_type": "code",
   "execution_count": 57,
   "outputs": [
    {
     "data": {
      "text/plain": "      Sr No.                                          Utterance Speaker   \n156      180                                            I know!  Monica  \\\n327      359  Rachel! Im never gonna think its okay for yo...  Monica   \n335      367  Behind my brother's back?  ... is exactly the ...  Monica   \n396      436  Phoebe! Come on! Lets go!  Come on!  Why aren...  Monica   \n707      756  No its not! You want it, youre gonna have to...  Monica   \n724      776                               Rachel always cries!  Monica   \n864      921  Mom says it's all of Manhattan, parts of Brook...  Monica   \n866      923                               Pants and a sweater?  Monica   \n868      925                 Who am I gonna meet in a blackout?  Monica   \n869      926                                Power company guys?  Monica   \n950     1009                               Not at these prices.  Monica   \n1016    1077                                    He's a dropper!  Monica   \n1094    1155  What do you have against the beautiful guest r...  Monica   \n1096    1157                                Are you mocking me?  Monica   \n1113    1175                                          Why not?!  Monica   \n1337    1404  Well, you broke up with Julie Grath! How much ...  Monica   \n1347    1414  You invite my brother, you invite my whole fam...  Monica   \n1378    1446   You guys are always hanging out in my apartment!  Monica   \n1480    1550  I mean, all Im asking for is just a little em...  Monica   \n1481    1551          Is that too much to ask after six years?!  Monica   \n1482    1552                                       I mean what?  Monica   \n1484    1554                I mean do we not have as much fun?!  Monica   \n1595    1672  Phoebe I think he would notice if you didnt h...  Monica   \n1607    1684           People have got to finish their stories!  Monica   \n1935    2037                       This woman's living my life.  Monica   \n1937    2039  She's living my life, and she's doing it bette...  Monica   \n1939    2041       She buys tickets for plays that I wanna see.  Monica   \n1940    2042  She, she buys clothes from stores that I'm int...  Monica   \n1941    2043   She spent three hundred dollars on art supplies.  Monica   \n1943    2045  Yeah, well I might be if I had the supplies! I...  Monica   \n1975    2090  Chandler, we said we would meet at the coffeeh...  Monica   \n1977    2092                                       We said six!  Monica   \n1979    2094  Yeah and if I had seven, maybe I wouldve said...  Monica   \n2071    2197  And then you realised if you  bitched about it...  Monica   \n2430    2577  You shouldnt be arguing over who gets credit,...  Monica   \n2431    2578                                     Now let it go!  Monica   \n2432    2579                                    The joke sucks!  Monica   \n2594    2749                                        Gimme them!  Monica   \n2596    2751                            You stole them from me!  Monica   \n2604    2759  Yeah, fade the accent out and people will thin...  Monica   \n\n     Emotion Sentiment  Dialogue_ID  Utterance_ID  Season  Episode   \n156    anger  negative           17             8       3        7  \\\n327    anger  negative           34            17       6       15   \n335    anger  negative           36             1       1       24   \n396    anger  negative           45             0       7        1   \n707    anger  negative           77             3       3        9   \n724    anger  negative           80             3       4        4   \n864    anger  negative           98             1       1        7   \n866    anger  negative           98             3       1        7   \n868    anger  negative           98             5       1        7   \n869    anger  negative           98             6       1        7   \n950    anger  negative          108             4       3        7   \n1016   anger  negative          113             6       5       21   \n1094   anger  negative          120            15       6        3   \n1096   anger  negative          120            17       6        3   \n1113   anger  negative          123             4       8        5   \n1337   anger  negative          143             7       7        6   \n1347   anger  negative          144             8       7       11   \n1378   anger  negative          147             4       1       12   \n1480   anger  negative          160             1       6        2   \n1481   anger  negative          160             2       6        2   \n1482   anger  negative          160             3       6        2   \n1484   anger  negative          160             5       6        2   \n1595   anger  negative          169            10       8        2   \n1607   anger  negative          169            22       8        2   \n1935   anger  negative          204             1       1       21   \n1937   anger  negative          204             3       1       21   \n1939   anger  negative          204             5       1       21   \n1940   anger  negative          204             6       1       21   \n1941   anger  negative          204             7       1       21   \n1943   anger  negative          204             9       1       21   \n1975   anger  negative          210             0       6       21   \n1977   anger  negative          210             2       6       21   \n1979   anger  negative          210             4       6       21   \n2071   anger  negative          222            12       4       18   \n2430   anger  negative          259            11       6       12   \n2431   anger  negative          259            12       6       12   \n2432   anger  negative          259            13       6       12   \n2594   anger  negative          279             0       6        4   \n2596   anger  negative          279             2       6        4   \n2604   anger  negative          279            10       6        4   \n\n         StartTime       EndTime SpeechBrain  \n156   00:02:47,250  00:02:51,420         ang  \n327   00:18:57,928  00:19:01,556         ang  \n335   00:17:58,202  00:18:05,249         ang  \n396   00:10:07,732  00:10:15,864         ang  \n707   00:12:20,448  00:12:23,575         ang  \n724   00:06:57,542  00:06:59,251         ang  \n864   00:01:46,481  00:01:51,110         ang  \n866    0:01:53,530   0:01:54,842         ang  \n868   00:01:56,074  00:01:57,825         ang  \n869    0:01:59,327   0:02:00,787         ang  \n950   00:05:01,884  00:05:04,052         ang  \n1016  00:11:48,457  00:11:50,125         ang  \n1094  00:05:03,594  00:05:05,429         ang  \n1096  00:05:12,937  00:05:14,062         ang  \n1113   0:08:42,105   0:08:43,031         ang  \n1337  00:16:44,243  00:16:47,588         ang  \n1347   0:17:51,862   0:17:54,699         ang  \n1378  00:22:12,998  00:22:16,000         ang  \n1480  00:14:28,701  00:14:31,035         ang  \n1481  00:14:31,287  00:14:33,413         ang  \n1482   0:14:33,664   0:14:35,875         ang  \n1484   0:14:36,625   0:14:38,002         ang  \n1595  00:12:11,564  00:12:14,232         ang  \n1607  00:13:03,449  00:13:06,367         ang  \n1935   0:02:03,873   0:02:05,834         ang  \n1937  00:02:07,168  00:02:10,838         ang  \n1939  00:02:13,424  00:02:16,093         ang  \n1940  00:02:16,261  00:02:19,596         ang  \n1941  00:02:19,764  00:02:22,349         ang  \n1943  00:02:24,060  00:02:32,192         ang  \n1975  00:17:06,442  00:17:09,444         ang  \n1977   0:17:11,203   0:17:12,577         ang  \n1979  00:17:20,122  00:17:27,420         ang  \n2071  00:06:13,831  00:06:21,254         ang  \n2430  00:17:16,035  00:17:23,249         ang  \n2431  00:17:23,500  00:17:24,917         ang  \n2432  00:17:25,127  00:17:27,003         ang  \n2594   0:14:04,176   0:14:06,058         ang  \n2596   0:14:06,554   0:14:07,486         ang  \n2604  00:14:28,200  00:14:35,039         ang  ",
      "text/html": "<div>\n<style scoped>\n    .dataframe tbody tr th:only-of-type {\n        vertical-align: middle;\n    }\n\n    .dataframe tbody tr th {\n        vertical-align: top;\n    }\n\n    .dataframe thead th {\n        text-align: right;\n    }\n</style>\n<table border=\"1\" class=\"dataframe\">\n  <thead>\n    <tr style=\"text-align: right;\">\n      <th></th>\n      <th>Sr No.</th>\n      <th>Utterance</th>\n      <th>Speaker</th>\n      <th>Emotion</th>\n      <th>Sentiment</th>\n      <th>Dialogue_ID</th>\n      <th>Utterance_ID</th>\n      <th>Season</th>\n      <th>Episode</th>\n      <th>StartTime</th>\n      <th>EndTime</th>\n      <th>SpeechBrain</th>\n    </tr>\n  </thead>\n  <tbody>\n    <tr>\n      <th>156</th>\n      <td>180</td>\n      <td>I know!</td>\n      <td>Monica</td>\n      <td>anger</td>\n      <td>negative</td>\n      <td>17</td>\n      <td>8</td>\n      <td>3</td>\n      <td>7</td>\n      <td>00:02:47,250</td>\n      <td>00:02:51,420</td>\n      <td>ang</td>\n    </tr>\n    <tr>\n      <th>327</th>\n      <td>359</td>\n      <td>Rachel! Im never gonna think its okay for yo...</td>\n      <td>Monica</td>\n      <td>anger</td>\n      <td>negative</td>\n      <td>34</td>\n      <td>17</td>\n      <td>6</td>\n      <td>15</td>\n      <td>00:18:57,928</td>\n      <td>00:19:01,556</td>\n      <td>ang</td>\n    </tr>\n    <tr>\n      <th>335</th>\n      <td>367</td>\n      <td>Behind my brother's back?  ... is exactly the ...</td>\n      <td>Monica</td>\n      <td>anger</td>\n      <td>negative</td>\n      <td>36</td>\n      <td>1</td>\n      <td>1</td>\n      <td>24</td>\n      <td>00:17:58,202</td>\n      <td>00:18:05,249</td>\n      <td>ang</td>\n    </tr>\n    <tr>\n      <th>396</th>\n      <td>436</td>\n      <td>Phoebe! Come on! Lets go!  Come on!  Why aren...</td>\n      <td>Monica</td>\n      <td>anger</td>\n      <td>negative</td>\n      <td>45</td>\n      <td>0</td>\n      <td>7</td>\n      <td>1</td>\n      <td>00:10:07,732</td>\n      <td>00:10:15,864</td>\n      <td>ang</td>\n    </tr>\n    <tr>\n      <th>707</th>\n      <td>756</td>\n      <td>No its not! You want it, youre gonna have to...</td>\n      <td>Monica</td>\n      <td>anger</td>\n      <td>negative</td>\n      <td>77</td>\n      <td>3</td>\n      <td>3</td>\n      <td>9</td>\n      <td>00:12:20,448</td>\n      <td>00:12:23,575</td>\n      <td>ang</td>\n    </tr>\n    <tr>\n      <th>724</th>\n      <td>776</td>\n      <td>Rachel always cries!</td>\n      <td>Monica</td>\n      <td>anger</td>\n      <td>negative</td>\n      <td>80</td>\n      <td>3</td>\n      <td>4</td>\n      <td>4</td>\n      <td>00:06:57,542</td>\n      <td>00:06:59,251</td>\n      <td>ang</td>\n    </tr>\n    <tr>\n      <th>864</th>\n      <td>921</td>\n      <td>Mom says it's all of Manhattan, parts of Brook...</td>\n      <td>Monica</td>\n      <td>anger</td>\n      <td>negative</td>\n      <td>98</td>\n      <td>1</td>\n      <td>1</td>\n      <td>7</td>\n      <td>00:01:46,481</td>\n      <td>00:01:51,110</td>\n      <td>ang</td>\n    </tr>\n    <tr>\n      <th>866</th>\n      <td>923</td>\n      <td>Pants and a sweater?</td>\n      <td>Monica</td>\n      <td>anger</td>\n      <td>negative</td>\n      <td>98</td>\n      <td>3</td>\n      <td>1</td>\n      <td>7</td>\n      <td>0:01:53,530</td>\n      <td>0:01:54,842</td>\n      <td>ang</td>\n    </tr>\n    <tr>\n      <th>868</th>\n      <td>925</td>\n      <td>Who am I gonna meet in a blackout?</td>\n      <td>Monica</td>\n      <td>anger</td>\n      <td>negative</td>\n      <td>98</td>\n      <td>5</td>\n      <td>1</td>\n      <td>7</td>\n      <td>00:01:56,074</td>\n      <td>00:01:57,825</td>\n      <td>ang</td>\n    </tr>\n    <tr>\n      <th>869</th>\n      <td>926</td>\n      <td>Power company guys?</td>\n      <td>Monica</td>\n      <td>anger</td>\n      <td>negative</td>\n      <td>98</td>\n      <td>6</td>\n      <td>1</td>\n      <td>7</td>\n      <td>0:01:59,327</td>\n      <td>0:02:00,787</td>\n      <td>ang</td>\n    </tr>\n    <tr>\n      <th>950</th>\n      <td>1009</td>\n      <td>Not at these prices.</td>\n      <td>Monica</td>\n      <td>anger</td>\n      <td>negative</td>\n      <td>108</td>\n      <td>4</td>\n      <td>3</td>\n      <td>7</td>\n      <td>00:05:01,884</td>\n      <td>00:05:04,052</td>\n      <td>ang</td>\n    </tr>\n    <tr>\n      <th>1016</th>\n      <td>1077</td>\n      <td>He's a dropper!</td>\n      <td>Monica</td>\n      <td>anger</td>\n      <td>negative</td>\n      <td>113</td>\n      <td>6</td>\n      <td>5</td>\n      <td>21</td>\n      <td>00:11:48,457</td>\n      <td>00:11:50,125</td>\n      <td>ang</td>\n    </tr>\n    <tr>\n      <th>1094</th>\n      <td>1155</td>\n      <td>What do you have against the beautiful guest r...</td>\n      <td>Monica</td>\n      <td>anger</td>\n      <td>negative</td>\n      <td>120</td>\n      <td>15</td>\n      <td>6</td>\n      <td>3</td>\n      <td>00:05:03,594</td>\n      <td>00:05:05,429</td>\n      <td>ang</td>\n    </tr>\n    <tr>\n      <th>1096</th>\n      <td>1157</td>\n      <td>Are you mocking me?</td>\n      <td>Monica</td>\n      <td>anger</td>\n      <td>negative</td>\n      <td>120</td>\n      <td>17</td>\n      <td>6</td>\n      <td>3</td>\n      <td>00:05:12,937</td>\n      <td>00:05:14,062</td>\n      <td>ang</td>\n    </tr>\n    <tr>\n      <th>1113</th>\n      <td>1175</td>\n      <td>Why not?!</td>\n      <td>Monica</td>\n      <td>anger</td>\n      <td>negative</td>\n      <td>123</td>\n      <td>4</td>\n      <td>8</td>\n      <td>5</td>\n      <td>0:08:42,105</td>\n      <td>0:08:43,031</td>\n      <td>ang</td>\n    </tr>\n    <tr>\n      <th>1337</th>\n      <td>1404</td>\n      <td>Well, you broke up with Julie Grath! How much ...</td>\n      <td>Monica</td>\n      <td>anger</td>\n      <td>negative</td>\n      <td>143</td>\n      <td>7</td>\n      <td>7</td>\n      <td>6</td>\n      <td>00:16:44,243</td>\n      <td>00:16:47,588</td>\n      <td>ang</td>\n    </tr>\n    <tr>\n      <th>1347</th>\n      <td>1414</td>\n      <td>You invite my brother, you invite my whole fam...</td>\n      <td>Monica</td>\n      <td>anger</td>\n      <td>negative</td>\n      <td>144</td>\n      <td>8</td>\n      <td>7</td>\n      <td>11</td>\n      <td>0:17:51,862</td>\n      <td>0:17:54,699</td>\n      <td>ang</td>\n    </tr>\n    <tr>\n      <th>1378</th>\n      <td>1446</td>\n      <td>You guys are always hanging out in my apartment!</td>\n      <td>Monica</td>\n      <td>anger</td>\n      <td>negative</td>\n      <td>147</td>\n      <td>4</td>\n      <td>1</td>\n      <td>12</td>\n      <td>00:22:12,998</td>\n      <td>00:22:16,000</td>\n      <td>ang</td>\n    </tr>\n    <tr>\n      <th>1480</th>\n      <td>1550</td>\n      <td>I mean, all Im asking for is just a little em...</td>\n      <td>Monica</td>\n      <td>anger</td>\n      <td>negative</td>\n      <td>160</td>\n      <td>1</td>\n      <td>6</td>\n      <td>2</td>\n      <td>00:14:28,701</td>\n      <td>00:14:31,035</td>\n      <td>ang</td>\n    </tr>\n    <tr>\n      <th>1481</th>\n      <td>1551</td>\n      <td>Is that too much to ask after six years?!</td>\n      <td>Monica</td>\n      <td>anger</td>\n      <td>negative</td>\n      <td>160</td>\n      <td>2</td>\n      <td>6</td>\n      <td>2</td>\n      <td>00:14:31,287</td>\n      <td>00:14:33,413</td>\n      <td>ang</td>\n    </tr>\n    <tr>\n      <th>1482</th>\n      <td>1552</td>\n      <td>I mean what?</td>\n      <td>Monica</td>\n      <td>anger</td>\n      <td>negative</td>\n      <td>160</td>\n      <td>3</td>\n      <td>6</td>\n      <td>2</td>\n      <td>0:14:33,664</td>\n      <td>0:14:35,875</td>\n      <td>ang</td>\n    </tr>\n    <tr>\n      <th>1484</th>\n      <td>1554</td>\n      <td>I mean do we not have as much fun?!</td>\n      <td>Monica</td>\n      <td>anger</td>\n      <td>negative</td>\n      <td>160</td>\n      <td>5</td>\n      <td>6</td>\n      <td>2</td>\n      <td>0:14:36,625</td>\n      <td>0:14:38,002</td>\n      <td>ang</td>\n    </tr>\n    <tr>\n      <th>1595</th>\n      <td>1672</td>\n      <td>Phoebe I think he would notice if you didnt h...</td>\n      <td>Monica</td>\n      <td>anger</td>\n      <td>negative</td>\n      <td>169</td>\n      <td>10</td>\n      <td>8</td>\n      <td>2</td>\n      <td>00:12:11,564</td>\n      <td>00:12:14,232</td>\n      <td>ang</td>\n    </tr>\n    <tr>\n      <th>1607</th>\n      <td>1684</td>\n      <td>People have got to finish their stories!</td>\n      <td>Monica</td>\n      <td>anger</td>\n      <td>negative</td>\n      <td>169</td>\n      <td>22</td>\n      <td>8</td>\n      <td>2</td>\n      <td>00:13:03,449</td>\n      <td>00:13:06,367</td>\n      <td>ang</td>\n    </tr>\n    <tr>\n      <th>1935</th>\n      <td>2037</td>\n      <td>This woman's living my life.</td>\n      <td>Monica</td>\n      <td>anger</td>\n      <td>negative</td>\n      <td>204</td>\n      <td>1</td>\n      <td>1</td>\n      <td>21</td>\n      <td>0:02:03,873</td>\n      <td>0:02:05,834</td>\n      <td>ang</td>\n    </tr>\n    <tr>\n      <th>1937</th>\n      <td>2039</td>\n      <td>She's living my life, and she's doing it bette...</td>\n      <td>Monica</td>\n      <td>anger</td>\n      <td>negative</td>\n      <td>204</td>\n      <td>3</td>\n      <td>1</td>\n      <td>21</td>\n      <td>00:02:07,168</td>\n      <td>00:02:10,838</td>\n      <td>ang</td>\n    </tr>\n    <tr>\n      <th>1939</th>\n      <td>2041</td>\n      <td>She buys tickets for plays that I wanna see.</td>\n      <td>Monica</td>\n      <td>anger</td>\n      <td>negative</td>\n      <td>204</td>\n      <td>5</td>\n      <td>1</td>\n      <td>21</td>\n      <td>00:02:13,424</td>\n      <td>00:02:16,093</td>\n      <td>ang</td>\n    </tr>\n    <tr>\n      <th>1940</th>\n      <td>2042</td>\n      <td>She, she buys clothes from stores that I'm int...</td>\n      <td>Monica</td>\n      <td>anger</td>\n      <td>negative</td>\n      <td>204</td>\n      <td>6</td>\n      <td>1</td>\n      <td>21</td>\n      <td>00:02:16,261</td>\n      <td>00:02:19,596</td>\n      <td>ang</td>\n    </tr>\n    <tr>\n      <th>1941</th>\n      <td>2043</td>\n      <td>She spent three hundred dollars on art supplies.</td>\n      <td>Monica</td>\n      <td>anger</td>\n      <td>negative</td>\n      <td>204</td>\n      <td>7</td>\n      <td>1</td>\n      <td>21</td>\n      <td>00:02:19,764</td>\n      <td>00:02:22,349</td>\n      <td>ang</td>\n    </tr>\n    <tr>\n      <th>1943</th>\n      <td>2045</td>\n      <td>Yeah, well I might be if I had the supplies! I...</td>\n      <td>Monica</td>\n      <td>anger</td>\n      <td>negative</td>\n      <td>204</td>\n      <td>9</td>\n      <td>1</td>\n      <td>21</td>\n      <td>00:02:24,060</td>\n      <td>00:02:32,192</td>\n      <td>ang</td>\n    </tr>\n    <tr>\n      <th>1975</th>\n      <td>2090</td>\n      <td>Chandler, we said we would meet at the coffeeh...</td>\n      <td>Monica</td>\n      <td>anger</td>\n      <td>negative</td>\n      <td>210</td>\n      <td>0</td>\n      <td>6</td>\n      <td>21</td>\n      <td>00:17:06,442</td>\n      <td>00:17:09,444</td>\n      <td>ang</td>\n    </tr>\n    <tr>\n      <th>1977</th>\n      <td>2092</td>\n      <td>We said six!</td>\n      <td>Monica</td>\n      <td>anger</td>\n      <td>negative</td>\n      <td>210</td>\n      <td>2</td>\n      <td>6</td>\n      <td>21</td>\n      <td>0:17:11,203</td>\n      <td>0:17:12,577</td>\n      <td>ang</td>\n    </tr>\n    <tr>\n      <th>1979</th>\n      <td>2094</td>\n      <td>Yeah and if I had seven, maybe I wouldve said...</td>\n      <td>Monica</td>\n      <td>anger</td>\n      <td>negative</td>\n      <td>210</td>\n      <td>4</td>\n      <td>6</td>\n      <td>21</td>\n      <td>00:17:20,122</td>\n      <td>00:17:27,420</td>\n      <td>ang</td>\n    </tr>\n    <tr>\n      <th>2071</th>\n      <td>2197</td>\n      <td>And then you realised if you  bitched about it...</td>\n      <td>Monica</td>\n      <td>anger</td>\n      <td>negative</td>\n      <td>222</td>\n      <td>12</td>\n      <td>4</td>\n      <td>18</td>\n      <td>00:06:13,831</td>\n      <td>00:06:21,254</td>\n      <td>ang</td>\n    </tr>\n    <tr>\n      <th>2430</th>\n      <td>2577</td>\n      <td>You shouldnt be arguing over who gets credit,...</td>\n      <td>Monica</td>\n      <td>anger</td>\n      <td>negative</td>\n      <td>259</td>\n      <td>11</td>\n      <td>6</td>\n      <td>12</td>\n      <td>00:17:16,035</td>\n      <td>00:17:23,249</td>\n      <td>ang</td>\n    </tr>\n    <tr>\n      <th>2431</th>\n      <td>2578</td>\n      <td>Now let it go!</td>\n      <td>Monica</td>\n      <td>anger</td>\n      <td>negative</td>\n      <td>259</td>\n      <td>12</td>\n      <td>6</td>\n      <td>12</td>\n      <td>00:17:23,500</td>\n      <td>00:17:24,917</td>\n      <td>ang</td>\n    </tr>\n    <tr>\n      <th>2432</th>\n      <td>2579</td>\n      <td>The joke sucks!</td>\n      <td>Monica</td>\n      <td>anger</td>\n      <td>negative</td>\n      <td>259</td>\n      <td>13</td>\n      <td>6</td>\n      <td>12</td>\n      <td>00:17:25,127</td>\n      <td>00:17:27,003</td>\n      <td>ang</td>\n    </tr>\n    <tr>\n      <th>2594</th>\n      <td>2749</td>\n      <td>Gimme them!</td>\n      <td>Monica</td>\n      <td>anger</td>\n      <td>negative</td>\n      <td>279</td>\n      <td>0</td>\n      <td>6</td>\n      <td>4</td>\n      <td>0:14:04,176</td>\n      <td>0:14:06,058</td>\n      <td>ang</td>\n    </tr>\n    <tr>\n      <th>2596</th>\n      <td>2751</td>\n      <td>You stole them from me!</td>\n      <td>Monica</td>\n      <td>anger</td>\n      <td>negative</td>\n      <td>279</td>\n      <td>2</td>\n      <td>6</td>\n      <td>4</td>\n      <td>0:14:06,554</td>\n      <td>0:14:07,486</td>\n      <td>ang</td>\n    </tr>\n    <tr>\n      <th>2604</th>\n      <td>2759</td>\n      <td>Yeah, fade the accent out and people will thin...</td>\n      <td>Monica</td>\n      <td>anger</td>\n      <td>negative</td>\n      <td>279</td>\n      <td>10</td>\n      <td>6</td>\n      <td>4</td>\n      <td>00:14:28,200</td>\n      <td>00:14:35,039</td>\n      <td>ang</td>\n    </tr>\n  </tbody>\n</table>\n</div>"
     },
     "execution_count": 57,
     "metadata": {},
     "output_type": "execute_result"
    }
   ],
   "source": [
    "# cond = (df.Emotion == 'disgust') & (df.SpeechBrain == 'ang')\n",
    "# cond = (df.Emotion == 'joy') & (df.SpeechBrain == 'hap')\n",
    "# cond = (df.Emotion == 'sadness') & (df.SpeechBrain == 'sad')\n",
    "# cond = (df.Emotion == 'neutral') & (df.SpeechBrain == 'neu')\n",
    "cond = (df.Emotion == 'anger') & (df.SpeechBrain == 'ang')\n",
    "# cond &= (df.Speaker == 'Ross')\n",
    "# cond &= (df.Speaker == 'Rachel')\n",
    "# cond &= (df.Speaker == 'Joey')\n",
    "cond &= (df.Speaker == 'Monica')\n",
    "df[cond]"
   ],
   "metadata": {
    "collapsed": false,
    "ExecuteTime": {
     "start_time": "2023-04-10T23:13:20.175731Z",
     "end_time": "2023-04-10T23:13:20.211764Z"
    }
   }
  },
  {
   "cell_type": "code",
   "execution_count": 41,
   "outputs": [
    {
     "data": {
      "text/plain": "array(['surprise', 'anger', 'neutral', 'joy', 'sadness', 'fear',\n       'disgust'], dtype=object)"
     },
     "execution_count": 41,
     "metadata": {},
     "output_type": "execute_result"
    }
   ],
   "source": [
    "df.Emotion.unique()"
   ],
   "metadata": {
    "collapsed": false,
    "ExecuteTime": {
     "start_time": "2023-04-10T22:54:38.460331Z",
     "end_time": "2023-04-10T22:54:38.619562Z"
    }
   }
  },
  {
   "cell_type": "code",
   "execution_count": 42,
   "outputs": [
    {
     "data": {
      "text/plain": "array(['ang', 'hap', 'neu', 'sad'], dtype=object)"
     },
     "execution_count": 42,
     "metadata": {},
     "output_type": "execute_result"
    }
   ],
   "source": [
    "df.SpeechBrain.unique()"
   ],
   "metadata": {
    "collapsed": false,
    "ExecuteTime": {
     "start_time": "2023-04-10T22:54:49.670645Z",
     "end_time": "2023-04-10T22:54:49.817644Z"
    }
   }
  },
  {
   "cell_type": "markdown",
   "source": [
    "# Recorded audio"
   ],
   "metadata": {
    "collapsed": false
   }
  },
  {
   "cell_type": "code",
   "execution_count": null,
   "outputs": [],
   "source": [
    "from pathlib import Path\n",
    "\n",
    "data = []\n",
    "\n",
    "for i, f in enumerate((Path('.') / 'RecordedAudio' / 'audio_files').iterdir()):\n",
    "    out_prob, score, index, text_lab = classifier.classify_file(str(f))\n",
    "    data.append(dict(id=f.stem, speaker=f.stem.split('_')[0], emotion=text_lab[0]))"
   ],
   "metadata": {
    "collapsed": false
   }
  },
  {
   "cell_type": "code",
   "execution_count": null,
   "outputs": [],
   "source": [
    "import pandas as pd\n",
    "\n",
    "df = pd.DataFrame(data=data)\n",
    "df"
   ],
   "metadata": {
    "collapsed": false
   }
  },
  {
   "cell_type": "code",
   "execution_count": null,
   "outputs": [],
   "source": [
    "df.to_csv('./RecordedAudio/all.csv')"
   ],
   "metadata": {
    "collapsed": false
   }
  }
 ],
 "metadata": {
  "kernelspec": {
   "display_name": "Python 3",
   "language": "python",
   "name": "python3"
  },
  "language_info": {
   "codemirror_mode": {
    "name": "ipython",
    "version": 2
   },
   "file_extension": ".py",
   "mimetype": "text/x-python",
   "name": "python",
   "nbconvert_exporter": "python",
   "pygments_lexer": "ipython2",
   "version": "2.7.6"
  }
 },
 "nbformat": 4,
 "nbformat_minor": 0
}
